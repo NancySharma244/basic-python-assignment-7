{
 "cells": [
  {
   "cell_type": "markdown",
   "id": "ee8fdb46",
   "metadata": {},
   "source": [
    "1. What is the name of the feature responsible for generating Regex objects?\n",
    "   The re. compile() function returns Regex objects."
   ]
  },
  {
   "cell_type": "markdown",
   "id": "66ac1cb3",
   "metadata": {},
   "source": [
    "2. Why do raw strings often appear in Regex objects?\n",
    "   Raw strings are used so that backslashes do not have to be escaped."
   ]
  },
  {
   "cell_type": "markdown",
   "id": "5146a53b",
   "metadata": {},
   "source": [
    "3. What is the return value of the search() method?\n",
    "   The search() method returns Match objects.\n",
    "  "
   ]
  },
  {
   "cell_type": "markdown",
   "id": "b0e400ca",
   "metadata": {},
   "source": [
    "4. From a Match item, how do you get the actual strings that match the pattern?\n",
    "   The group() method returns strings of the matched text."
   ]
  },
  {
   "cell_type": "markdown",
   "id": "38e902a7",
   "metadata": {},
   "source": [
    "5. In the regex which created from the r'(\\d\\d\\d)-(\\d\\d\\d-\\d\\d\\d\\d)', what does group zero cover? Group 2? Group 1?\n",
    "   Group 0 is the entire match, group 1 covers the first set of parentheses, and group 2 covers the second set of              parentheses."
   ]
  },
  {
   "cell_type": "markdown",
   "id": "08b0ee79",
   "metadata": {},
   "source": [
    "6. In standard expression syntax, parentheses and intervals have distinct meanings. How can you tell a regex that you want    it to fit real parentheses and periods?\n",
    "   Periods and parentheses can be escaped with a backslash: \\., \\(, and \\)."
   ]
  },
  {
   "cell_type": "markdown",
   "id": "47bf8af5",
   "metadata": {},
   "source": [
    " 7. The findall() method returns a string list or a list of string tuples. What causes it to return one of the two options?\n",
    "    If the regex has no groups, a list of strings is returned. If the regex has groups, a list of tuples of strings is         returned."
   ]
  },
  {
   "cell_type": "markdown",
   "id": "5843ba8f",
   "metadata": {},
   "source": [
    "8. In standard expressions, what does the | character mean?\n",
    "   The ? character can either mean \"match zero or one of the preceding group\" or be used to signify nongreedy matching."
   ]
  },
  {
   "cell_type": "markdown",
   "id": "3edb8fc7",
   "metadata": {},
   "source": [
    "9. In regular expressions, what does the character stand for?\n",
    "   Regular Expression, is a sequence of characters that forms a search pattern."
   ]
  },
  {
   "cell_type": "markdown",
   "id": "2eb3d297",
   "metadata": {},
   "source": [
    "10. In regular expressions, what is the difference between the + and * characters?\n",
    "    The + matches one or more. The * matches zero or more."
   ]
  },
  {
   "cell_type": "markdown",
   "id": "4142f805",
   "metadata": {},
   "source": [
    "11. What is the difference between {4} and {4,5} in regular expression?\n",
    "    The {4} matches exactly four instances of the preceding group. The {4,5} matches between four and five instances."
   ]
  },
  {
   "cell_type": "markdown",
   "id": "418cac8c",
   "metadata": {},
   "source": [
    "12. What do you mean by the \\d, \\w, and \\s shorthand character classes signify in regular expressions?\n",
    "    The \\d, \\w, and \\s shorthand character classes match a single digit, word, or space character, respectively."
   ]
  },
  {
   "cell_type": "markdown",
   "id": "d0899849",
   "metadata": {},
   "source": [
    "13. What do means by \\D, \\W, and \\S shorthand character classes signify in regular expressions?\n",
    "    The \\D, \\W, and \\S shorthand character classes match a single character that is not a digit, word, or space character,     respectively."
   ]
  },
  {
   "cell_type": "markdown",
   "id": "e0b4a211",
   "metadata": {},
   "source": [
    "14. What is the difference between .*? and .*?\n",
    "    There is no difference."
   ]
  },
  {
   "cell_type": "markdown",
   "id": "fe7013e6",
   "metadata": {},
   "source": [
    "15. What is the syntax for matching both numbers and lowercase letters with a character class?\n",
    "    The character class [a-zA-Z0-9] will match all lowercase letters, uppercase letters, and numbers."
   ]
  },
  {
   "cell_type": "markdown",
   "id": "a1c582ec",
   "metadata": {},
   "source": [
    "16. What is the procedure for making a normal expression in regax case insensitive?\n",
    "    IGNORECASE : This flag allows for case-insensitive matching of the Regular Expression with the given string i.e.           expressions like [A-Z] will match lowercase letters, too.  "
   ]
  },
  {
   "cell_type": "markdown",
   "id": "294d9cad",
   "metadata": {},
   "source": [
    "17. What does the . character normally match? What does it match if re.DOTALL is passed as 2nd argument in re.compile()?\n",
    "    character normally matches any character except the newline character. If re. DOTALL is passed as the second argument       to re. compile(), then the dot will also match newline characters."
   ]
  },
  {
   "cell_type": "markdown",
   "id": "866bb1c2",
   "metadata": {},
   "source": [
    "18. If numReg = re.compile(r'\\d+'), what will numRegex.sub('X', '11 drummers, 10 pipers, five rings, 4 hen') return?\n",
    "    X drummers, X pipers, five rings, X hens."
   ]
  },
  {
   "cell_type": "markdown",
   "id": "4d8c5a15",
   "metadata": {},
   "source": [
    "19. What does passing re.VERBOSE as the 2nd argument to re.compile() allow to do?\n",
    "    To ignore whitespace and comments inside the regular expression string."
   ]
  },
  {
   "cell_type": "markdown",
   "id": "c3e21bfd",
   "metadata": {},
   "source": [
    "Q20. How would you write a regex that matches a number with commas for every three digits? It must match the following:\n",
    "     '42'\n",
    "     '1,234'\n",
    "     '6,368,745'\n",
    "     but not the following:\n",
    "     '12,34,567' (which has only two digits between the commas)\n",
    "     '1234' (which lacks commas)?\n",
    "     numCommas = re.compile(r'(^\\d{1,3})(,\\d{3})*$') numCommas.search('12,34,567').group()."
   ]
  },
  {
   "cell_type": "markdown",
   "id": "b2207ff3",
   "metadata": {},
   "source": [
    "21. How would you write a regex that matches the full name of someone whose last name is Watanabe? You can assume that the first name that comes before it will always be one word that begins with a capital letter. The regex must match the following:\n",
    "    'Haruto Watanabe'\n",
    "    'Alice Watanabe'\n",
    "    'RoboCop Watanabe'\n",
    "    but not the following:\n",
    "    'haruto Watanabe' (where the first name is not capitalized)\n",
    "    'Mr. Watanabe' (where the preceding word has a nonletter character)\n",
    "    'Watanabe' (which has no first name)\n",
    "    'Haruto watanabe' (where Watanabe is not capitalized)?\n",
    "    fullName = re.compile(r'[A-Z]\\w [A-Z]\\w') mo = fullName.findall('Haruto Watanable, haruto Watanabe , Alice Watanabe ,  Watanabe, Haruto Watanabe , Robocop  watanable') mo.group()."
   ]
  },
  {
   "cell_type": "markdown",
   "id": "ba1ea9f0",
   "metadata": {},
   "source": [
    "22. How would you write a regex that matches a sentence where the first word is either Alice, Bob, or Carol; the second word is either eats, pets, or throws; the third word is apples, cats, or baseballs; and the sentence ends with a period? This regex should be case-insensitive. It must match the following:\n",
    "    'Alice eats apples.'\n",
    "    'Bob pets cats.'\n",
    "    'Carol throws baseballs.'\n",
    "    'Alice throws Apples.'\n",
    "    'BOB EATS CATS.'\n",
    "    but not the following:\n",
    "    'RoboCop eats apples.'\n",
    "    'ALICE THROWS FOOTBALLS.'\n",
    "    'Carol eats 7 cats.'?\n",
    "    senRegex = re.compile(r'(Alice|Bob|Carol)\\s(eats|pets|throws)\\s(apples|cats|baseballs).', re.I|re.DOTALL) \n",
    "    senRegex.findall('''Alice eats apples.'\n",
    "    'Bob pets cats.'\n",
    "    'Carol throws baseballs.'\n",
    "    'Alice throws Apples.'\n",
    "    'BOB EATS CATS.'\n",
    "    but not the following:\n",
    "    'Robocop eats apples.'\n",
    "    'ALICE THROWS FOOTBALLS.'\n",
    "    'Carol eats 7 cats.''')\n",
    "    Test result: [('Alice', 'eats', 'apples'), ('Bob', 'pets', 'cats'), ('Carol', 'throws', 'baseballs'), ('Alice',    'throws', 'Apples'), ('BOB', 'EATS', 'CATS')]"
   ]
  }
 ],
 "metadata": {
  "kernelspec": {
   "display_name": "Python 3 (ipykernel)",
   "language": "python",
   "name": "python3"
  },
  "language_info": {
   "codemirror_mode": {
    "name": "ipython",
    "version": 3
   },
   "file_extension": ".py",
   "mimetype": "text/x-python",
   "name": "python",
   "nbconvert_exporter": "python",
   "pygments_lexer": "ipython3",
   "version": "3.9.7"
  }
 },
 "nbformat": 4,
 "nbformat_minor": 5
}
